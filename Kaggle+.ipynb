{
 "cells": [
  {
   "cell_type": "code",
   "execution_count": 1,
   "metadata": {
    "collapsed": true
   },
   "outputs": [],
   "source": [
    "## You'll just need to execute this once.\n",
    "\n",
    "# Standard\n",
    "%matplotlib inline\n",
    "import matplotlib.pyplot as plt\n",
    "import numpy as np\n",
    "\n",
    "# Time a lengthy computation\n",
    "from time import time\n",
    "\n",
    "# A tool for getting data\n",
    "import pandas as pd\n",
    "\n",
    "# A sparse matrix representation\n",
    "from scipy.sparse import dok_matrix\n",
    "\n",
    "# An eigenvalue computer for sparse matrices\n",
    "from scipy.sparse.linalg import eigs\n",
    "\n",
    "# We'll need to optimize our procedure.\n",
    "from scipy.optimize import minimize\n"
   ]
  },
  {
   "cell_type": "code",
   "execution_count": 2,
   "metadata": {},
   "outputs": [
    {
     "ename": "FileNotFoundError",
     "evalue": "File b'DataFiles/Teams.csv' does not exist",
     "output_type": "error",
     "traceback": [
      "\u001b[1;31m---------------------------------------------------------------------------\u001b[0m",
      "\u001b[1;31mFileNotFoundError\u001b[0m                         Traceback (most recent call last)",
      "\u001b[1;32m<ipython-input-2-86229d25d19a>\u001b[0m in \u001b[0;36m<module>\u001b[1;34m()\u001b[0m\n\u001b[0;32m      1\u001b[0m \u001b[1;31m## You'll just need to execute this once.\u001b[0m\u001b[1;33m\u001b[0m\u001b[1;33m\u001b[0m\u001b[0m\n\u001b[0;32m      2\u001b[0m \u001b[1;33m\u001b[0m\u001b[0m\n\u001b[1;32m----> 3\u001b[1;33m \u001b[0mteams_df\u001b[0m \u001b[1;33m=\u001b[0m \u001b[0mpd\u001b[0m\u001b[1;33m.\u001b[0m\u001b[0mread_csv\u001b[0m\u001b[1;33m(\u001b[0m\u001b[1;34m'DataFiles/Teams.csv'\u001b[0m\u001b[1;33m)\u001b[0m\u001b[1;33m\u001b[0m\u001b[0m\n\u001b[0m\u001b[0;32m      4\u001b[0m teams = [\n\u001b[0;32m      5\u001b[0m     {\n",
      "\u001b[1;32m~\\AppData\\Local\\Continuum\\anaconda3\\lib\\site-packages\\pandas\\io\\parsers.py\u001b[0m in \u001b[0;36mparser_f\u001b[1;34m(filepath_or_buffer, sep, delimiter, header, names, index_col, usecols, squeeze, prefix, mangle_dupe_cols, dtype, engine, converters, true_values, false_values, skipinitialspace, skiprows, nrows, na_values, keep_default_na, na_filter, verbose, skip_blank_lines, parse_dates, infer_datetime_format, keep_date_col, date_parser, dayfirst, iterator, chunksize, compression, thousands, decimal, lineterminator, quotechar, quoting, escapechar, comment, encoding, dialect, tupleize_cols, error_bad_lines, warn_bad_lines, skipfooter, skip_footer, doublequote, delim_whitespace, as_recarray, compact_ints, use_unsigned, low_memory, buffer_lines, memory_map, float_precision)\u001b[0m\n\u001b[0;32m    653\u001b[0m                     skip_blank_lines=skip_blank_lines)\n\u001b[0;32m    654\u001b[0m \u001b[1;33m\u001b[0m\u001b[0m\n\u001b[1;32m--> 655\u001b[1;33m         \u001b[1;32mreturn\u001b[0m \u001b[0m_read\u001b[0m\u001b[1;33m(\u001b[0m\u001b[0mfilepath_or_buffer\u001b[0m\u001b[1;33m,\u001b[0m \u001b[0mkwds\u001b[0m\u001b[1;33m)\u001b[0m\u001b[1;33m\u001b[0m\u001b[0m\n\u001b[0m\u001b[0;32m    656\u001b[0m \u001b[1;33m\u001b[0m\u001b[0m\n\u001b[0;32m    657\u001b[0m     \u001b[0mparser_f\u001b[0m\u001b[1;33m.\u001b[0m\u001b[0m__name__\u001b[0m \u001b[1;33m=\u001b[0m \u001b[0mname\u001b[0m\u001b[1;33m\u001b[0m\u001b[0m\n",
      "\u001b[1;32m~\\AppData\\Local\\Continuum\\anaconda3\\lib\\site-packages\\pandas\\io\\parsers.py\u001b[0m in \u001b[0;36m_read\u001b[1;34m(filepath_or_buffer, kwds)\u001b[0m\n\u001b[0;32m    403\u001b[0m \u001b[1;33m\u001b[0m\u001b[0m\n\u001b[0;32m    404\u001b[0m     \u001b[1;31m# Create the parser.\u001b[0m\u001b[1;33m\u001b[0m\u001b[1;33m\u001b[0m\u001b[0m\n\u001b[1;32m--> 405\u001b[1;33m     \u001b[0mparser\u001b[0m \u001b[1;33m=\u001b[0m \u001b[0mTextFileReader\u001b[0m\u001b[1;33m(\u001b[0m\u001b[0mfilepath_or_buffer\u001b[0m\u001b[1;33m,\u001b[0m \u001b[1;33m**\u001b[0m\u001b[0mkwds\u001b[0m\u001b[1;33m)\u001b[0m\u001b[1;33m\u001b[0m\u001b[0m\n\u001b[0m\u001b[0;32m    406\u001b[0m \u001b[1;33m\u001b[0m\u001b[0m\n\u001b[0;32m    407\u001b[0m     \u001b[1;32mif\u001b[0m \u001b[0mchunksize\u001b[0m \u001b[1;32mor\u001b[0m \u001b[0miterator\u001b[0m\u001b[1;33m:\u001b[0m\u001b[1;33m\u001b[0m\u001b[0m\n",
      "\u001b[1;32m~\\AppData\\Local\\Continuum\\anaconda3\\lib\\site-packages\\pandas\\io\\parsers.py\u001b[0m in \u001b[0;36m__init__\u001b[1;34m(self, f, engine, **kwds)\u001b[0m\n\u001b[0;32m    762\u001b[0m             \u001b[0mself\u001b[0m\u001b[1;33m.\u001b[0m\u001b[0moptions\u001b[0m\u001b[1;33m[\u001b[0m\u001b[1;34m'has_index_names'\u001b[0m\u001b[1;33m]\u001b[0m \u001b[1;33m=\u001b[0m \u001b[0mkwds\u001b[0m\u001b[1;33m[\u001b[0m\u001b[1;34m'has_index_names'\u001b[0m\u001b[1;33m]\u001b[0m\u001b[1;33m\u001b[0m\u001b[0m\n\u001b[0;32m    763\u001b[0m \u001b[1;33m\u001b[0m\u001b[0m\n\u001b[1;32m--> 764\u001b[1;33m         \u001b[0mself\u001b[0m\u001b[1;33m.\u001b[0m\u001b[0m_make_engine\u001b[0m\u001b[1;33m(\u001b[0m\u001b[0mself\u001b[0m\u001b[1;33m.\u001b[0m\u001b[0mengine\u001b[0m\u001b[1;33m)\u001b[0m\u001b[1;33m\u001b[0m\u001b[0m\n\u001b[0m\u001b[0;32m    765\u001b[0m \u001b[1;33m\u001b[0m\u001b[0m\n\u001b[0;32m    766\u001b[0m     \u001b[1;32mdef\u001b[0m \u001b[0mclose\u001b[0m\u001b[1;33m(\u001b[0m\u001b[0mself\u001b[0m\u001b[1;33m)\u001b[0m\u001b[1;33m:\u001b[0m\u001b[1;33m\u001b[0m\u001b[0m\n",
      "\u001b[1;32m~\\AppData\\Local\\Continuum\\anaconda3\\lib\\site-packages\\pandas\\io\\parsers.py\u001b[0m in \u001b[0;36m_make_engine\u001b[1;34m(self, engine)\u001b[0m\n\u001b[0;32m    983\u001b[0m     \u001b[1;32mdef\u001b[0m \u001b[0m_make_engine\u001b[0m\u001b[1;33m(\u001b[0m\u001b[0mself\u001b[0m\u001b[1;33m,\u001b[0m \u001b[0mengine\u001b[0m\u001b[1;33m=\u001b[0m\u001b[1;34m'c'\u001b[0m\u001b[1;33m)\u001b[0m\u001b[1;33m:\u001b[0m\u001b[1;33m\u001b[0m\u001b[0m\n\u001b[0;32m    984\u001b[0m         \u001b[1;32mif\u001b[0m \u001b[0mengine\u001b[0m \u001b[1;33m==\u001b[0m \u001b[1;34m'c'\u001b[0m\u001b[1;33m:\u001b[0m\u001b[1;33m\u001b[0m\u001b[0m\n\u001b[1;32m--> 985\u001b[1;33m             \u001b[0mself\u001b[0m\u001b[1;33m.\u001b[0m\u001b[0m_engine\u001b[0m \u001b[1;33m=\u001b[0m \u001b[0mCParserWrapper\u001b[0m\u001b[1;33m(\u001b[0m\u001b[0mself\u001b[0m\u001b[1;33m.\u001b[0m\u001b[0mf\u001b[0m\u001b[1;33m,\u001b[0m \u001b[1;33m**\u001b[0m\u001b[0mself\u001b[0m\u001b[1;33m.\u001b[0m\u001b[0moptions\u001b[0m\u001b[1;33m)\u001b[0m\u001b[1;33m\u001b[0m\u001b[0m\n\u001b[0m\u001b[0;32m    986\u001b[0m         \u001b[1;32melse\u001b[0m\u001b[1;33m:\u001b[0m\u001b[1;33m\u001b[0m\u001b[0m\n\u001b[0;32m    987\u001b[0m             \u001b[1;32mif\u001b[0m \u001b[0mengine\u001b[0m \u001b[1;33m==\u001b[0m \u001b[1;34m'python'\u001b[0m\u001b[1;33m:\u001b[0m\u001b[1;33m\u001b[0m\u001b[0m\n",
      "\u001b[1;32m~\\AppData\\Local\\Continuum\\anaconda3\\lib\\site-packages\\pandas\\io\\parsers.py\u001b[0m in \u001b[0;36m__init__\u001b[1;34m(self, src, **kwds)\u001b[0m\n\u001b[0;32m   1603\u001b[0m         \u001b[0mkwds\u001b[0m\u001b[1;33m[\u001b[0m\u001b[1;34m'allow_leading_cols'\u001b[0m\u001b[1;33m]\u001b[0m \u001b[1;33m=\u001b[0m \u001b[0mself\u001b[0m\u001b[1;33m.\u001b[0m\u001b[0mindex_col\u001b[0m \u001b[1;32mis\u001b[0m \u001b[1;32mnot\u001b[0m \u001b[1;32mFalse\u001b[0m\u001b[1;33m\u001b[0m\u001b[0m\n\u001b[0;32m   1604\u001b[0m \u001b[1;33m\u001b[0m\u001b[0m\n\u001b[1;32m-> 1605\u001b[1;33m         \u001b[0mself\u001b[0m\u001b[1;33m.\u001b[0m\u001b[0m_reader\u001b[0m \u001b[1;33m=\u001b[0m \u001b[0mparsers\u001b[0m\u001b[1;33m.\u001b[0m\u001b[0mTextReader\u001b[0m\u001b[1;33m(\u001b[0m\u001b[0msrc\u001b[0m\u001b[1;33m,\u001b[0m \u001b[1;33m**\u001b[0m\u001b[0mkwds\u001b[0m\u001b[1;33m)\u001b[0m\u001b[1;33m\u001b[0m\u001b[0m\n\u001b[0m\u001b[0;32m   1606\u001b[0m \u001b[1;33m\u001b[0m\u001b[0m\n\u001b[0;32m   1607\u001b[0m         \u001b[1;31m# XXX\u001b[0m\u001b[1;33m\u001b[0m\u001b[1;33m\u001b[0m\u001b[0m\n",
      "\u001b[1;32mpandas/_libs/parsers.pyx\u001b[0m in \u001b[0;36mpandas._libs.parsers.TextReader.__cinit__ (pandas\\_libs\\parsers.c:4209)\u001b[1;34m()\u001b[0m\n",
      "\u001b[1;32mpandas/_libs/parsers.pyx\u001b[0m in \u001b[0;36mpandas._libs.parsers.TextReader._setup_parser_source (pandas\\_libs\\parsers.c:8873)\u001b[1;34m()\u001b[0m\n",
      "\u001b[1;31mFileNotFoundError\u001b[0m: File b'DataFiles/Teams.csv' does not exist"
     ]
    }
   ],
   "source": [
    "## You'll just need to execute this once.\n",
    "\n",
    "teams_df = pd.read_csv('DataFiles/Teams.csv')\n",
    "teams = [\n",
    "    {\n",
    "        'team_idx':idx,\n",
    "        'team_id':row['TeamID'],\n",
    "        'team_name':row['TeamName']\n",
    "    }\n",
    "    for (idx,row) in teams_df.iterrows()\n",
    "]"
   ]
  },
  {
   "cell_type": "code",
   "execution_count": null,
   "metadata": {
    "collapsed": true
   },
   "outputs": [],
   "source": [
    "## Read in and set up the season results data for a particular year.\n",
    "## Note that this is the one and only place we set the year. You'll\n",
    "## need to rerun this every time through.\n",
    "\n",
    "year = 2018\n",
    "\n",
    "# Load the regular season data\n",
    "results_df = pd.read_csv('DataFiles/RegularSeasonCompactResults.csv')\n",
    "games = [\n",
    "    {\n",
    "        'day':int(row['DayNum']),\n",
    "        'win_id':row['WTeamID'],\n",
    "        'win_score':int(row['WScore']),\n",
    "        'lose_id':row['LTeamID'],\n",
    "        'lose_score':int(row['LScore']),\n",
    "        'win_loc':row['WLoc'],\n",
    "        'num_ot':row['NumOT']\n",
    "    }\n",
    "    for (idx,row) in results_df.iterrows() if row['Season'] == year\n",
    "]\n",
    "min_day = min([game['day'] for game in games])\n",
    "max_day = max([game['day'] for game in games])\n",
    "\n",
    "# Load the tournament results data - for scoring purposes\n",
    "tourney_results_df = pd.read_csv('DataFiles/NCAATourneyCompactResults.csv')\n",
    "tourney_results = []\n",
    "for idx,row in tourney_results_df.iterrows():\n",
    "    if row['Season'] == year:\n",
    "        win_team = row['WTeamID']\n",
    "        lose_team = row['LTeamID']\n",
    "        tourney_results.append((win_team,lose_team))"
   ]
  },
  {
   "cell_type": "code",
   "execution_count": null,
   "metadata": {
    "collapsed": true
   },
   "outputs": [],
   "source": [
    "## You'll need to execute this each time you try a different year -\n",
    "## including running the final version for 2018!\n",
    "\n",
    "team_dict = {}\n",
    "for game in games:\n",
    "    win_team = game['win_id']\n",
    "    if win_team in team_dict:\n",
    "        team_dict[win_team]['num_games'] = team_dict[win_team]['num_games']+1\n",
    "    else:\n",
    "        team_dict[win_team] = {'num_games':1}\n",
    "    lose_team = game['lose_id']\n",
    "    if lose_team in team_dict:\n",
    "        team_dict[lose_team]['num_games'] = team_dict[lose_team]['num_games']+1\n",
    "    else:\n",
    "        team_dict[lose_team] = {'num_games':1}\n",
    "n_games = len(team_dict)\n",
    "cnt = 0\n",
    "for team in team_dict:\n",
    "    team_dict[team]['matrix_idx'] = cnt\n",
    "    cnt = cnt+1\n",
    "    pos = [team['team_id'] for team in teams].index(team)\n",
    "    team_dict[team]['name'] = teams[pos]['team_name']\n",
    "reverse_team_dict = dict([(team_dict[team]['matrix_idx'],team) for team in team_dict])"
   ]
  },
  {
   "cell_type": "code",
   "execution_count": null,
   "metadata": {
    "collapsed": true
   },
   "outputs": [],
   "source": [
    "## You'll need to rerun this every time you perform optimization for a given year.\n",
    "\n",
    "def scale(s,x):\n",
    "    if x<=0.5:\n",
    "        return 0.5*(2*x)**(1/s)\n",
    "    else:\n",
    "        return 1-0.5*(2*(1-x))**(1/s)\n",
    "def run_trial(parameters, extra_info=False):\n",
    "    aw = parameters[0]\n",
    "    sw = parameters[1]\n",
    "    ww = parameters[2]\n",
    "    p = parameters[3]\n",
    "    day_weight = parameters[4]\n",
    "    def dw(day):\n",
    "        return day_weight + (1-day_weight)*(day-min_day)/(max_day-min_day)\n",
    "    s = parameters[5]\n",
    "\n",
    "    M = dok_matrix((len(team_dict),len(team_dict)))\n",
    "    for game in games:\n",
    "        day_weight = dw(game['day'])\n",
    "        win_team = game['win_id']\n",
    "        w_num_games = team_dict[win_team]['num_games']**p\n",
    "        win_score = int(game['win_score'])\n",
    "        win_index = team_dict[win_team]['matrix_idx']\n",
    "        lose_team = game['lose_id']\n",
    "        l_num_games = team_dict[lose_team]['num_games']**p\n",
    "        lose_score = int(game['lose_score'])\n",
    "        lose_index = team_dict[lose_team]['matrix_idx']\n",
    "        total_score = win_score+lose_score\n",
    "        if game['win_loc'] == 'H':\n",
    "            whw = 1\n",
    "            lhw = aw\n",
    "        elif game['win_loc'] == 'A':\n",
    "            whw = aw\n",
    "            lhw = 1\n",
    "        else:\n",
    "            whw = 1\n",
    "            lhw = 1\n",
    "        M[win_index,lose_index] = M[win_index,lose_index] + whw*day_weight*ww/w_num_games + \\\n",
    "            (whw*day_weight*sw*win_score/total_score)/w_num_games\n",
    "        M[lose_index,win_index] = M[lose_index,win_index] +  \\\n",
    "            (lhw*day_weight*sw*lose_score/total_score)/l_num_games\n",
    "    value, vector = eigs(M, which = 'LM', k=1)\n",
    "    vector = abs(np.ndarray.flatten(vector.real))\n",
    "    order = list(vector.argsort())\n",
    "    order.reverse()\n",
    "\n",
    "    def prob1beats2(team1,team2):\n",
    "        strength1 = vector[team_dict[team1]['matrix_idx']]\n",
    "        strength2 = vector[team_dict[team2]['matrix_idx']]\n",
    "        return scale(s, strength1/(strength1+strength2))\n",
    "\n",
    "    total = 0\n",
    "    cnt = 0\n",
    "    for result in tourney_results:\n",
    "        total = total + np.log(prob1beats2(result[0],result[1]))\n",
    "        cnt = cnt+1\n",
    "    score = -total/cnt\n",
    "    if extra_info == True:\n",
    "        extra_info_dict = {\n",
    "            'ranking_vector': vector,\n",
    "            'order': order,\n",
    "            'p_function': prob1beats2,\n",
    "            'ranking': [team_dict[reverse_team_dict[k]]['name'] for k in order]\n",
    "        }\n",
    "        return score, extra_info_dict\n",
    "    else:\n",
    "        return score"
   ]
  },
  {
   "cell_type": "code",
   "execution_count": null,
   "metadata": {},
   "outputs": [],
   "source": [
    "## Here's where we actually find parameters to optimize the procedure!!\n",
    "\n",
    "aw = 1.3; sw = 1; ww = 1.5; p = 1; dw = 0.75; s = 0.1\n",
    "t = time()\n",
    "min_result = minimize(run_trial, [aw,sw,ww,p,dw,s],\n",
    "    bounds =  [(1,None), (0.1, None), (0, None), (0,None), (0,1),(0.01,1)])\n",
    "time()-t"
   ]
  },
  {
   "cell_type": "code",
   "execution_count": null,
   "metadata": {},
   "outputs": [],
   "source": [
    "## This is the important output that you want from the optimization!!\n",
    "\n",
    "min_result"
   ]
  },
  {
   "cell_type": "code",
   "execution_count": null,
   "metadata": {},
   "outputs": [],
   "source": [
    "## This doesn't need to be run, but examining the top 10 might \n",
    "## help ensure that your results are sensible\n",
    "\n",
    "result, info = run_trial(min_result['x'], extra_info = True)\n",
    "info['ranking'][:10]"
   ]
  },
  {
   "cell_type": "code",
   "execution_count": null,
   "metadata": {
    "collapsed": true
   },
   "outputs": [],
   "source": [
    "seeds_df = pd.read_csv('DataFiles/NCAATourneySeeds.csv')\n",
    "seed_dict = {};\n",
    "for (idx,row) in list(seeds_df.iterrows()):\n",
    "    if row['Season'] == year:\n",
    "        team = row['TeamID']\n",
    "        seed = int(row['Seed'][1:3])\n",
    "        seed_dict[team] = seed\n",
    "teams_in = list(seed_dict.keys())\n",
    "teams_in.sort()\n",
    "pairs = [(teams_in[i], teams_in[j])\n",
    "    for i in range(len(teams_in))\n",
    "    for j in range(i+1,len(teams_in))]"
   ]
  },
  {
   "cell_type": "code",
   "execution_count": null,
   "metadata": {
    "collapsed": true
   },
   "outputs": [],
   "source": [
    "def scale(s,x):\n",
    "    if x<=0.5:\n",
    "        return 0.5*(2*x)**(1/s)\n",
    "    else:\n",
    "        return 1-0.5*(2*(1-x))**(1/s)\n",
    "def run_it(parameters):\n",
    "    aw = parameters[0]\n",
    "    sw = parameters[1]\n",
    "    ww = parameters[2]\n",
    "    p = parameters[3]\n",
    "    day_weight = parameters[4]\n",
    "    def dw(day):\n",
    "        return day_weight + (1-day_weight)*(day-min_day)/(max_day-min_day)\n",
    "    s = parameters[5]\n",
    "\n",
    "    M = dok_matrix((len(team_dict),len(team_dict)))\n",
    "    for game in games:\n",
    "        day_weight = dw(game['day'])\n",
    "        win_team = game['win_id']\n",
    "        w_num_games = team_dict[win_team]['num_games']**p\n",
    "        win_score = int(game['win_score'])\n",
    "        win_index = team_dict[win_team]['matrix_idx']\n",
    "        lose_team = game['lose_id']\n",
    "        l_num_games = team_dict[lose_team]['num_games']**p\n",
    "        lose_score = int(game['lose_score'])\n",
    "        lose_index = team_dict[lose_team]['matrix_idx']\n",
    "        total_score = win_score+lose_score\n",
    "        if game['win_loc'] == 'H':\n",
    "            whw = 1\n",
    "            lhw = aw\n",
    "        elif game['win_loc'] == 'A':\n",
    "            whw = aw\n",
    "            lhw = 1\n",
    "        else:\n",
    "            whw = 1\n",
    "            lhw = 1\n",
    "        M[win_index,lose_index] = M[win_index,lose_index] + whw*day_weight*ww/w_num_games + \\\n",
    "            (whw*day_weight*sw*win_score/total_score)/w_num_games\n",
    "        M[lose_index,win_index] = M[lose_index,win_index] +  \\\n",
    "            (lhw*day_weight*sw*lose_score/total_score)/l_num_games\n",
    "    value, vector = eigs(M, which = 'LM', k=1)\n",
    "    vector = abs(np.ndarray.flatten(vector.real))\n",
    "    order = list(vector.argsort())\n",
    "    order.reverse()\n",
    "\n",
    "    def prob1beats2(team1,team2):\n",
    "        strength1 = vector[team_dict[team1]['matrix_idx']]\n",
    "        strength2 = vector[team_dict[team2]['matrix_idx']]\n",
    "        return scale(s, strength1/(strength1+strength2))\n",
    "\n",
    "    team_dicts = [team_dict[reverse_team_dict[k]] for k in order]\n",
    "    for idx,td in enumerate(team_dicts):\n",
    "        td['rating'] = vector[order][idx]\n",
    "\n",
    "    return {\n",
    "        'ranking_vector': vector,\n",
    "        'order': order,\n",
    "        'p_function': prob1beats2,\n",
    "        'rankings': [team_dict[reverse_team_dict[k]] for k in order]\n",
    "    }"
   ]
  },
  {
   "cell_type": "code",
   "execution_count": null,
   "metadata": {},
   "outputs": [],
   "source": [
    "attempt = run_it([1.0, 2.77510649, 0.0, 0.81164999, 1.0, 0.03604771])\n",
    "[x['name'] for x in attempt['rankings'][:10]]"
   ]
  },
  {
   "cell_type": "code",
   "execution_count": null,
   "metadata": {
    "collapsed": true
   },
   "outputs": [],
   "source": [
    "p_fun = attempt['p_function']\n",
    "file_handle = open('submit1.csv', 'w')\n",
    "file_handle.write(\"id,pred\\n\")\n",
    "for pair in pairs:\n",
    "    line = str(year) + \"_\" + str(pair[0]) + \"_\" + str(pair[1]) + \",\"\n",
    "    p = p_fun(pair[0], pair[1])\n",
    "    p = str(p)\n",
    "    line = line + p\n",
    "    #line = line + \",\\t\" + team_dict[pair[0]]['name'] + \" - \" + team_dict[pair[1]]['name']\n",
    "    line = line + \"\\n\"\n",
    "    file_handle.write(line)\n",
    "file_handle.close()"
   ]
  },
  {
   "cell_type": "code",
   "execution_count": null,
   "metadata": {
    "collapsed": true
   },
   "outputs": [],
   "source": [
    "sweet_sixteen = [\n",
    " 'Villanova','West Virginia',\n",
    " 'Texas Tech','Purdue',\n",
    " 'Kansas','Clemson',\n",
    " 'Syracuse','Duke',\n",
    " 'Kansas St','Kentucky',\n",
    " 'Loyola-Chicago','Nevada',\n",
    " 'Florida St','Gonzaga',\n",
    " 'Michigan','Texas A&M'\n",
    "]"
   ]
  },
  {
   "cell_type": "code",
   "execution_count": null,
   "metadata": {},
   "outputs": [],
   "source": [
    "ranked_teams = attempt['rankings']\n",
    "team_names = [t['name'] for t in ranked_teams]\n",
    "def get_rating(t):\n",
    "    idx = team_names.index(t)\n",
    "    return ranked_teams[idx]['rating']\n",
    "\n",
    "q = \"?\"\n",
    "for k in range(16):\n",
    "    q = q + 'team=' + sweet_sixteen[k] + '&'\n",
    "    q = q + 'rating=' + str(get_rating(sweet_sixteen[k]))\n",
    "    if k<15:\n",
    "        q = q + '&'\n",
    "q"
   ]
  },
  {
   "cell_type": "code",
   "execution_count": null,
   "metadata": {},
   "outputs": [],
   "source": [
    "import webbrowser\n",
    "webbrowser.open(\n",
    "    'https://marksmath.org/visualization/eigenbrackets/tourney_from_rankings.html' + q\n",
    ")"
   ]
  },
  {
   "cell_type": "markdown",
   "metadata": {},
   "source": [
    "My Identification for NumericalBracket is half_descent."
   ]
  },
  {
   "cell_type": "markdown",
   "metadata": {},
   "source": [
    "Our goal is to predict who is going to win or lose the sweet sixteen bascketball competition by minimizing the LoggLoss function that Kaggle uses to rank scores. Python code is used to find the parameters that optimize scores, and then we use those parameters to minimize the LogLoss score."
   ]
  },
  {
   "cell_type": "code",
   "execution_count": null,
   "metadata": {
    "collapsed": true
   },
   "outputs": [],
   "source": []
  },
  {
   "cell_type": "code",
   "execution_count": null,
   "metadata": {
    "collapsed": true
   },
   "outputs": [],
   "source": []
  },
  {
   "cell_type": "code",
   "execution_count": null,
   "metadata": {
    "collapsed": true
   },
   "outputs": [],
   "source": []
  }
 ],
 "metadata": {
  "kernelspec": {
   "display_name": "Python 3",
   "language": "python",
   "name": "python3"
  },
  "language_info": {
   "codemirror_mode": {
    "name": "ipython",
    "version": 3
   },
   "file_extension": ".py",
   "mimetype": "text/x-python",
   "name": "python",
   "nbconvert_exporter": "python",
   "pygments_lexer": "ipython3",
   "version": "3.6.3"
  }
 },
 "nbformat": 4,
 "nbformat_minor": 2
}
